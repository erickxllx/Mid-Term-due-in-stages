{
  "nbformat": 4,
  "nbformat_minor": 0,
  "metadata": {
    "colab": {
      "provenance": [],
      "authorship_tag": "ABX9TyMSJ0eHbTRaqtvw3Zs/6DnE",
      "include_colab_link": true
    },
    "kernelspec": {
      "name": "python3",
      "display_name": "Python 3"
    },
    "language_info": {
      "name": "python"
    }
  },
  "cells": [
    {
      "cell_type": "markdown",
      "metadata": {
        "id": "view-in-github",
        "colab_type": "text"
      },
      "source": [
        "<a href=\"https://colab.research.google.com/github/erickxllx/Mid-Term-due-in-stages/blob/main/MidtermProjectCode.ipynb\" target=\"_parent\"><img src=\"https://colab.research.google.com/assets/colab-badge.svg\" alt=\"Open In Colab\"/></a>"
      ]
    },
    {
      "cell_type": "code",
      "source": [
        "Data Cleaning & Preparation\n",
        "Author: Peter Amoye,Erick Banegas,Alhassane Samassekou\n",
        "Date: October 2025\n",
        "\n",
        "import pandas as pd\n",
        "import numpy as np\n",
        "import matplotlib.pyplot as plt\n",
        "import seaborn as sns\n",
        "from google.colab import files\n",
        "\n",
        "pd.set_option('display.max_columns', None)\n",
        "sns.set(style=\"whitegrid\")\n",
        "\n",
        "print(\">> Please upload your CSV file (e.g., student_info.csv)\")\n",
        "uploaded = files.upload()\n",
        "\n",
        "csv_candidates = [k for k in uploaded.keys() if k.lower().endswith(\".csv\")]\n",
        "assert csv_candidates, \"No CSV file uploaded!\"\n",
        "csv_path = csv_candidates[0]\n",
        "\n",
        "df = pd.read_csv(csv_path)\n",
        "print(\"✅ CSV loaded successfully!\")\n",
        "print(\"Shape:\", df.shape)\n",
        "display(df.head())\n",
        "\n",
        "print(\"=== Dataset Info ===\")\n",
        "print(df.info())\n",
        "\n",
        "print(\"\\n=== Missing Values ===\")\n",
        "print(df.isna().sum())\n",
        "\n",
        "print(\"\\n=== Summary Statistics ===\")\n",
        "display(df.describe(include='all'))\n",
        "\n",
        "before = df.shape[0]\n",
        "df.drop_duplicates(inplace=True)\n",
        "print(f\"Removed {before - df.shape[0]} duplicate rows.\")\n",
        "\n",
        "df = df.applymap(lambda x: x.strip() if isinstance(x, str) else x)\n",
        "\n",
        "for col in df.select_dtypes(include='object').columns:\n",
        "    df[col] = df[col].str.title()\n",
        "\n",
        "print(\"✅ Basic cleaning done.\")\n",
        "\n",
        "num_cols = df.select_dtypes(include=[np.number]).columns\n",
        "cat_cols = df.select_dtypes(exclude=[np.number]).columns\n",
        "\n",
        "for col in num_cols:\n",
        "    df[col].fillna(df[col].mean(), inplace=True)\n",
        "\n",
        "for col in cat_cols:\n",
        "    df[col].fillna(df[col].mode()[0], inplace=True)\n",
        "\n",
        "print(\"✅ Missing values handled.\")\n",
        "\n",
        "plt.figure(figsize=(10,6))\n",
        "sns.boxplot(data=df.select_dtypes(include=[np.number]))\n",
        "plt.title(\"Boxplot of Numerical Features\")\n",
        "plt.show()\n",
        "\n",
        "if {'math_score','reading_score','writing_score','study_hours'}.issubset(df.columns):\n",
        "    df['avg_score'] = df[['math_score','reading_score','writing_score']].mean(axis=1)\n",
        "    df['study_efficiency'] = df['avg_score'] / (df['study_hours'] + 0.1)\n",
        "    print(\"✅ Feature engineering completed.\")\n",
        "else:\n",
        "    print(\"⚠️ Required columns missing for feature engineering.\")\n",
        "\n",
        "target_col = 'final_result'\n",
        "if target_col in df.columns:\n",
        "    plt.figure(figsize=(5,4))\n",
        "    sns.countplot(data=df, x=target_col)\n",
        "    plt.title(\"Distribution of Final Results\")\n",
        "    plt.show()\n",
        "\n",
        "plt.figure(figsize=(8,6))\n",
        "sns.heatmap(df.select_dtypes(include=[np.number]).corr(), annot=True, cmap='coolwarm')\n",
        "plt.title(\"Correlation Heatmap of Numeric Features\")\n",
        "plt.show()\n",
        "\n",
        "output_path = 'student_info_cleaned.csv'\n",
        "df.to_csv(output_path, index=False)\n",
        "print(f\"✅ Cleaned dataset saved as {output_path}.\")\n"
      ],
      "metadata": {
        "id": "il6bMlY3bg2w"
      },
      "execution_count": null,
      "outputs": []
    }
  ]
}